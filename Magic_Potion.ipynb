{
  "nbformat": 4,
  "nbformat_minor": 0,
  "metadata": {
    "colab": {
      "provenance": []
    },
    "kernelspec": {
      "name": "python3",
      "display_name": "Python 3"
    },
    "language_info": {
      "name": "python"
    }
  },
  "cells": [
    {
      "cell_type": "code",
      "source": [
        "import random\n",
        "\n",
        "class Magical_Potion:\n",
        "    shop_name = \"Powerful Potion 💪\"\n",
        "\n",
        "    def __init__(self):\n",
        "        self.__potion_horror = [\"Dragon Puffs Potion\", \"Fireball Fizz\", \"Phantom Drip Potion\", \"Hexfire Essence\"]\n",
        "        self.__potion_cute = [\"Butterfly Kisses Brew\", \"Love Sparkle Drops\", \"Glitter Wish Water\"]\n",
        "        self.__ingredients_for_cute_potion = [\"Unicorn Hair\", \"Sparkling Dewdrops\", \"Fairy Wing Dust\", \"Moonlight Jelly\", \"Giggleberries\", \"Rainbow Sugar Crystals\", \"Teddy Bear Lint\", \"Starlight Fluff\", \"Bubblegum Blobs\", \"Mermaid Scale Flakes\", \"Laughter Pebbles\", \"Dream Whispers\", \"Butterfly Wings\", \"Pink Marshmallow Mist\", \"Fizzy Cloud Drops\", \"Love Leaf\", \"Cotton Candy Fog\", \"Snuggle Seeds\", \"Peach Glow Juice\", \"Cherry Pop Sparkle Dust\"]\n",
        "        self.__ingredients_for_horror_potion = [\"Vampire Blood\", \"Witch’s Toenail\", \"Cursed Ash\", \"Ghost Mist\", \"Zombie Skin Flake\", \"Demon Fang\", \"Spider Venom\", \"Bat Wing\", \"Haunted Tears\", \"Rotten Pumpkin Guts\", \"Phantom Dust\", \"Eyeball Jelly\", \"Midnight Howl\", \"Werewolf Fur\", \"Graveyard Soil\", \"Shadow Essence\", \"Broken Doll Parts\", \"Black Cat Whisker\", \"Skull Crumbs\", \"Screaming Fog\"]\n",
        "\n",
        "    def main(self):\n",
        "        print(f\"Welcome to {self.shop_name}\")\n",
        "        print(\"Choose your Potion Theme!\")\n",
        "        print(\"\\nHorror 😈🩸\\nCute 🌸✨\")\n",
        "\n",
        "        choice1 = input(\"Enter your potion theme: \").lower()\n",
        "\n",
        "        if choice1 == \"horror\":\n",
        "            print(\"Ingredients:\", \", \".join(self.__ingredients_for_horror_potion))\n",
        "            user1 = input(\"Enter your ingredient 1: \")\n",
        "            user2 = input(\"Enter your ingredient 2: \")\n",
        "            print(\"Your potion is ready!\")\n",
        "            a = random.choice(self.__potion_horror)\n",
        "            print(f\"After adding {user1} and {user2}, we got a potion name: {a} — So Legendary! 💀👹\")\n",
        "        elif choice1 == \"cute\":\n",
        "            print(\"Ingredients:\", \", \".join(self.__ingredients_for_cute_potion))\n",
        "            user1 = input(\"Enter your ingredient 1: \")\n",
        "            user2 = input(\"Enter your ingredient 2: \")\n",
        "            print(\"Your potion is ready!\")\n",
        "            a = random.choice(self.__potion_cute)\n",
        "            print(f\"After adding {user1} and {user2}, we got a potion name: {a} — So magical! 🌈🧁\")\n",
        "        else:\n",
        "            print(\"Please select a valid potion theme!\")\n",
        "\n",
        "m = Magical_Potion()\n",
        "m.main()"
      ],
      "metadata": {
        "colab": {
          "base_uri": "https://localhost:8080/"
        },
        "id": "A9fMaP8gYR4b",
        "outputId": "47219274-521d-4bae-928d-3e533eb500e1"
      },
      "execution_count": 1,
      "outputs": [
        {
          "output_type": "stream",
          "name": "stdout",
          "text": [
            "Welcome to Powerful Potion 💪\n",
            "Choose your Potion Theme!\n",
            "\n",
            "Horror 😈🩸\n",
            "Cute 🌸✨\n",
            "Enter your potion theme: cute\n",
            "Ingredients: Unicorn Hair, Sparkling Dewdrops, Fairy Wing Dust, Moonlight Jelly, Giggleberries, Rainbow Sugar Crystals, Teddy Bear Lint, Starlight Fluff, Bubblegum Blobs, Mermaid Scale Flakes, Laughter Pebbles, Dream Whispers, Butterfly Wings, Pink Marshmallow Mist, Fizzy Cloud Drops, Love Leaf, Cotton Candy Fog, Snuggle Seeds, Peach Glow Juice, Cherry Pop Sparkle Dust\n",
            "Enter your ingredient 1: Fairy wing Dust\n",
            "Enter your ingredient 2: Sparkling Dewdrops\n",
            "Your potion is ready!\n",
            "After adding Fairy wing Dust and Sparkling Dewdrops, we got a potion name: Glitter Wish Water — So magical! 🌈🧁\n"
          ]
        }
      ]
    }
  ]
}